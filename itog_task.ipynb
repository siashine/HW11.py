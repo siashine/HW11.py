{
  "metadata": {
    "kernelspec": {
      "name": "python",
      "display_name": "Python (Pyodide)",
      "language": "python"
    },
    "language_info": {
      "codemirror_mode": {
        "name": "python",
        "version": 3
      },
      "file_extension": ".py",
      "mimetype": "text/x-python",
      "name": "python",
      "nbconvert_exporter": "python",
      "pygments_lexer": "ipython3",
      "version": "3.8"
    }
  },
  "nbformat_minor": 5,
  "nbformat": 4,
  "cells": [
    {
      "cell_type": "code",
      "source": "from sympy import *\nfrom sympy.plotting import plot",
      "metadata": {
        "trusted": true
      },
      "execution_count": 2,
      "outputs": [],
      "id": "1680ccfc-9c8f-470f-b1eb-aaf080f3cb3f"
    },
    {
      "cell_type": "markdown",
      "source": "Задание уравнения функции",
      "metadata": {},
      "id": "ad228155-6a9c-408b-8d3a-31e303d66c8a"
    },
    {
      "cell_type": "code",
      "source": "x = symbols('x')",
      "metadata": {
        "trusted": true
      },
      "execution_count": 3,
      "outputs": [],
      "id": "5a707b79-c8f4-4b4c-8570-3d91971c55c2"
    },
    {
      "cell_type": "code",
      "source": "f = -5*x**2 + 10*x - 150\nf",
      "metadata": {
        "trusted": true
      },
      "execution_count": 6,
      "outputs": [
        {
          "execution_count": 6,
          "output_type": "execute_result",
          "data": {
            "text/plain": "-5*x**2 + 10*x - 150",
            "text/latex": "$\\displaystyle - 5 x^{2} + 10 x - 150$"
          },
          "metadata": {}
        }
      ],
      "id": "2c6be7eb-708a-46e2-b011-9181bff687b2"
    },
    {
      "cell_type": "markdown",
      "source": "Определить корни уравнения",
      "metadata": {},
      "id": "1cdad93f-2399-4c31-8289-ccc3704316c2"
    },
    {
      "cell_type": "code",
      "source": "roots = solveset(f, x)\nroots_list = list(roots.evalf(4))\nprint(\"Ответ: корнями уравнения являются значения х = \", roots_list[0], \" и х = \", roots_list[1])",
      "metadata": {
        "trusted": true
      },
      "execution_count": 5,
      "outputs": [
        {
          "name": "stdout",
          "text": "Ответ: корнями уравнения являются значения х =  1.0 - 5.385*I  и х =  1.0 + 5.385*I\n",
          "output_type": "stream"
        }
      ],
      "id": "58c8e9a9-8445-4e4a-a00c-86f3ee74549b"
    },
    {
      "cell_type": "markdown",
      "source": "Найти интервалы, на которых функция возрастает",
      "metadata": {},
      "id": "85d95be9-8e0a-4092-bdb0-e7d74a859ae7"
    },
    {
      "cell_type": "code",
      "source": "df = diff(f, x)\nincreasing_interval = solve(df > 0, x)\nprint(\"функция возрастает на интервале: \", increasing_interval)",
      "metadata": {
        "trusted": true
      },
      "execution_count": 8,
      "outputs": [
        {
          "name": "stdout",
          "text": "функция возрастает на интервале:  (-oo < x) & (x < 1)\n",
          "output_type": "stream"
        }
      ],
      "id": "7e5b760a-9a4e-40b0-bd93-a7f90ae64396"
    },
    {
      "cell_type": "markdown",
      "source": "Найти интервалы, на которых функция убывает",
      "metadata": {},
      "id": "8348cef4-5a04-4a9c-8da1-31a6a2200447"
    },
    {
      "cell_type": "code",
      "source": "df = diff(f, x)\ndecreasing_interval = solve(df < 0, x)\nprint(\"функция убывает на интервале: \", decreasing_interval)",
      "metadata": {
        "trusted": true
      },
      "execution_count": 9,
      "outputs": [
        {
          "name": "stdout",
          "text": "функция убывает на интервале:  (1 < x) & (x < oo)\n",
          "output_type": "stream"
        }
      ],
      "id": "67abf41c-c676-4baa-8787-73f14f379227"
    },
    {
      "cell_type": "markdown",
      "source": "Построить график функции",
      "metadata": {},
      "id": "cd80cf21-cca4-4b38-873e-7c777d72e829"
    },
    {
      "cell_type": "code",
      "source": "plot (f, xlabel = \"X\", ylabel = \"f(x)\")",
      "metadata": {
        "trusted": true
      },
      "execution_count": 10,
      "outputs": [
        {
          "name": "stdout",
          "text": "   -150 |                         ...........                   \n        |                      ...           ...                \n        |                   ...                 ..              \n        |                  /                      ..            \n        |                ..                         \\           \n        |              ..                            ..         \n        |             /                                \\        \n        |            /                                  ..      \n        |           /                                     \\     \n        |          /                                       \\    \n   -450 |---------/-----------------------------------------\\---\n        |        /                                           \\  \n        |       /                                             \\ \n        |      /                                               \\\n        |     /                                                 \n        |    /                                                  \n        |   /                                                   \n        |  .                                                    \n        |                                                       \n        | .                                                     \n   -750 |_______________________________________________________\n         -10                        0                          10\n",
          "output_type": "stream"
        },
        {
          "execution_count": 10,
          "output_type": "execute_result",
          "data": {
            "text/plain": "<sympy.plotting.plot.Plot at 0x385e700>"
          },
          "metadata": {}
        }
      ],
      "id": "da23efac-9ec3-4cbc-8015-26a40726a642"
    },
    {
      "cell_type": "markdown",
      "source": "Вычислить вершину",
      "metadata": {},
      "id": "2f5feaca-ef85-4f77-8987-ea237eece4ff"
    },
    {
      "cell_type": "code",
      "source": "df = diff(f, x)\ndf\nx_extremum = solve(df, x)\ny_extremum = f.subs(x, x_extremum[0])\nprint(\"Ответ: вершиной является точка (\", x_extremum[0], \",\", y_extremum, \")\")",
      "metadata": {
        "trusted": true
      },
      "execution_count": 11,
      "outputs": [
        {
          "name": "stdout",
          "text": "Ответ: вершиной является точка ( 1 , -145 )\n",
          "output_type": "stream"
        }
      ],
      "id": "e4678e56-59bc-4a66-a88d-ad26be7ceae9"
    },
    {
      "cell_type": "markdown",
      "source": "Определить промежутки, на котором f > 0",
      "metadata": {},
      "id": "d5e9678a-7444-4f66-8e16-037279c346d2"
    },
    {
      "cell_type": "code",
      "source": "positive_interval = solve(f > 0, x)\nif (positive_interval):\n    print(print(\" Ответ: функция принимает положительные значения на интервале: \", positive_interval))\nelse: \n    print(print(\" Ответ: функция не имеет положительные значения\"))",
      "metadata": {
        "trusted": true
      },
      "execution_count": 12,
      "outputs": [
        {
          "name": "stdout",
          "text": " Ответ: функция не имеет положительные значения\nNone\n",
          "output_type": "stream"
        }
      ],
      "id": "b1483a86-6f58-4885-966c-56ea1279a96b"
    },
    {
      "cell_type": "markdown",
      "source": "Определить промежутки, на котором f < 0",
      "metadata": {},
      "id": "e4385f9c-30de-4c7a-a447-5ac464d732c8"
    },
    {
      "cell_type": "code",
      "source": "negative_interval = solve(f < 0, x)\nif (negative_interval):\n    print(print(\" Ответ: функция принимает отрицательные значения на интервале: \", negative_interval))\nelse: \n    print(print(\" Ответ: функция не имеет отрицательных значений\"))",
      "metadata": {
        "trusted": true
      },
      "execution_count": 13,
      "outputs": [
        {
          "name": "stdout",
          "text": " Ответ: функция принимает отрицательные значения на интервале:  (-oo < x) & (x < oo)\nNone\n",
          "output_type": "stream"
        }
      ],
      "id": "72deb5fb-f024-4496-bf94-129571ebfe8c"
    },
    {
      "cell_type": "code",
      "source": "",
      "metadata": {},
      "execution_count": null,
      "outputs": [],
      "id": "49ab3ba2-9222-4bcb-a540-b24db5cc41c1"
    }
  ]
}